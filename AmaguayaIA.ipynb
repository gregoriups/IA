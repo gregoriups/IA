{
  "nbformat": 4,
  "nbformat_minor": 0,
  "metadata": {
    "colab": {
      "name": "AmaguayaIA.ipynb",
      "provenance": [],
      "authorship_tag": "ABX9TyO3Om/Ch5cGCYuHywIJrh/7",
      "include_colab_link": true
    },
    "kernelspec": {
      "name": "python3",
      "display_name": "Python 3"
    },
    "language_info": {
      "name": "python"
    }
  },
  "cells": [
    {
      "cell_type": "markdown",
      "metadata": {
        "id": "view-in-github",
        "colab_type": "text"
      },
      "source": [
        "<a href=\"https://colab.research.google.com/github/gregoriups/IA/blob/gh-pages/AmaguayaIA.ipynb\" target=\"_parent\"><img src=\"https://colab.research.google.com/assets/colab-badge.svg\" alt=\"Open In Colab\"/></a>"
      ]
    },
    {
      "cell_type": "code",
      "metadata": {
        "colab": {
          "base_uri": "https://localhost:8080/"
        },
        "id": "3cWccaW5Gjre",
        "outputId": "65fb2ba3-f292-4d6f-ed8c-4a1ee2cfa0a8"
      },
      "source": [
        "pip install bigml"
      ],
      "execution_count": 1,
      "outputs": [
        {
          "output_type": "stream",
          "text": [
            "Collecting bigml\n",
            "\u001b[?25l  Downloading https://files.pythonhosted.org/packages/67/35/c5e3ef011c384ebc8faf1ecac81806c35cd57b54e9daf869a1de5116608e/bigml-6.1.2.tar.gz (581kB)\n",
            "\u001b[K     |████████████████████████████████| 583kB 6.3MB/s \n",
            "\u001b[?25hCollecting unidecode\n",
            "\u001b[?25l  Downloading https://files.pythonhosted.org/packages/9e/25/723487ca2a52ebcee88a34d7d1f5a4b80b793f179ee0f62d5371938dfa01/Unidecode-1.2.0-py2.py3-none-any.whl (241kB)\n",
            "\u001b[K     |████████████████████████████████| 245kB 10.2MB/s \n",
            "\u001b[?25hCollecting bigml-chronos>=0.4.3\n",
            "  Downloading https://files.pythonhosted.org/packages/f5/53/545a7b442bbf631ee06f26c12830ae1a838eab22c67759bd29e70d38b6d0/bigml-chronos-0.4.3.tar.gz\n",
            "Requirement already satisfied: requests in /usr/local/lib/python3.7/dist-packages (from bigml) (2.23.0)\n",
            "Collecting requests-toolbelt\n",
            "\u001b[?25l  Downloading https://files.pythonhosted.org/packages/60/ef/7681134338fc097acef8d9b2f8abe0458e4d87559c689a8c306d0957ece5/requests_toolbelt-0.9.1-py2.py3-none-any.whl (54kB)\n",
            "\u001b[K     |████████████████████████████████| 61kB 6.0MB/s \n",
            "\u001b[?25hRequirement already satisfied: numpy in /usr/local/lib/python3.7/dist-packages (from bigml) (1.19.5)\n",
            "Requirement already satisfied: scipy in /usr/local/lib/python3.7/dist-packages (from bigml) (1.4.1)\n",
            "Requirement already satisfied: msgpack in /usr/local/lib/python3.7/dist-packages (from bigml) (1.0.2)\n",
            "Collecting isoweek\n",
            "  Downloading https://files.pythonhosted.org/packages/c2/d4/fe7e2637975c476734fcbf53776e650a29680194eb0dd21dbdc020ca92de/isoweek-1.3.3-py2.py3-none-any.whl\n",
            "Requirement already satisfied: pytz in /usr/local/lib/python3.7/dist-packages (from bigml-chronos>=0.4.3->bigml) (2018.9)\n",
            "Requirement already satisfied: urllib3!=1.25.0,!=1.25.1,<1.26,>=1.21.1 in /usr/local/lib/python3.7/dist-packages (from requests->bigml) (1.24.3)\n",
            "Requirement already satisfied: idna<3,>=2.5 in /usr/local/lib/python3.7/dist-packages (from requests->bigml) (2.10)\n",
            "Requirement already satisfied: chardet<4,>=3.0.2 in /usr/local/lib/python3.7/dist-packages (from requests->bigml) (3.0.4)\n",
            "Requirement already satisfied: certifi>=2017.4.17 in /usr/local/lib/python3.7/dist-packages (from requests->bigml) (2021.5.30)\n",
            "Building wheels for collected packages: bigml, bigml-chronos\n",
            "  Building wheel for bigml (setup.py) ... \u001b[?25l\u001b[?25hdone\n",
            "  Created wheel for bigml: filename=bigml-6.1.2-cp37-none-any.whl size=446672 sha256=694b6022e862222c13f8842426188ca765d520916b898638205632431eb0bbc3\n",
            "  Stored in directory: /root/.cache/pip/wheels/a4/ff/be/027339aa713ba21f661e3b02cb2bf6415a03ea575930f676c8\n",
            "  Building wheel for bigml-chronos (setup.py) ... \u001b[?25l\u001b[?25hdone\n",
            "  Created wheel for bigml-chronos: filename=bigml_chronos-0.4.3-cp37-none-any.whl size=14665 sha256=38dcf13c095405a0628400a098f6a0adabe32a69d132cc41e22404c3b5074a7a\n",
            "  Stored in directory: /root/.cache/pip/wheels/8e/fe/0d/12f195cefc5affdc9fefac37b6bba6af9d08254988664ffb94\n",
            "Successfully built bigml bigml-chronos\n",
            "Installing collected packages: unidecode, isoweek, bigml-chronos, requests-toolbelt, bigml\n",
            "Successfully installed bigml-6.1.2 bigml-chronos-0.4.3 isoweek-1.3.3 requests-toolbelt-0.9.1 unidecode-1.2.0\n"
          ],
          "name": "stdout"
        }
      ]
    },
    {
      "cell_type": "code",
      "metadata": {
        "id": "-ASFdQP4J-Fz",
        "outputId": "043fd0d0-bd0a-40c8-98fd-019817dd0336",
        "colab": {
          "base_uri": "https://localhost:8080/"
        }
      },
      "source": [
        "#@title Salario de acuerdo a la exeriencia xD { run: \"auto\", vertical-output: true }\n",
        "experiencia = 26 #@param {type:\"slider\", min:0, max:100, step:1}\n",
        "# Requires BigML Python bindings\n",
        "#\n",
        "# Install via: pip install bigml\n",
        "#\n",
        "# or clone it:\n",
        "#   git clone https://github.com/bigmlcom/python.git\n",
        "from bigml.linear import LinearRegression\n",
        "from bigml.api import BigML\n",
        "# Downloads and generates a local version of the linear regression,\n",
        "# if it hasn't been downloaded previously.\n",
        "linearregression = LinearRegression('linearregression/60dbaadee4279b249b00209d',\n",
        "                  api=BigML(\"gregoriups\",\n",
        "                            \"bd3066e5c94f9309f4afb091c45cf7f4fdea5f97\",\n",
        "                            domain=\"bigml.io\"))\n",
        "# To make predictions fill the desired input_data\n",
        "# in next line. All fields are compulsory if they don't have\n",
        "# missing values.\n",
        "input_data = {\n",
        "    \"Experiencia\": experiencia\n",
        "}\n",
        "linearregression.predict(input_data)"
      ],
      "execution_count": 24,
      "outputs": [
        {
          "output_type": "execute_result",
          "data": {
            "text/plain": [
              "6362407.0"
            ]
          },
          "metadata": {
            "tags": []
          },
          "execution_count": 24
        }
      ]
    }
  ]
}